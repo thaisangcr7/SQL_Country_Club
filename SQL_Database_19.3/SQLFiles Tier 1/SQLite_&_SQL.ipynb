{
 "cells": [
  {
   "cell_type": "code",
   "execution_count": 4,
   "id": "0479d54d",
   "metadata": {},
   "outputs": [],
   "source": [
    "\"\"\"\"\n",
    "/* PART 2: SQLite\n",
    " We now want you to jump over to a local instance of the database on your machine. \n",
    "\n",
    "Copy and paste the LocalSQLConnection.py script into an empty Jupyter notebook, and run it. \n",
    "\n",
    "Make sure that the SQLFiles folder containing thes files is in your working directory, and\n",
    "that you haven't changed the name of the .db file from 'sqlite\\db\\pythonsqlite'.\n",
    "\n",
    "You should see the output from the initial query 'SELECT * FROM FACILITIES'.\n",
    "\n",
    "Complete the remaining tasks in the Jupyter interface. If you struggle, feel free to go back\n",
    "to the PHPMyAdmin interface as and when you need to. \n",
    "\n",
    "You'll need to paste your query into value of the 'query1' variable and run the code block again to get an output.\n",
    " \n",
    "QUESTIONS:\n",
    "/* Q10: Produce a list of facilities with a total revenue less than 1000.\n",
    "The output of facility name and total revenue, sorted by revenue. Remember\n",
    "that there's a different cost for guests and members! */\n",
    "\n",
    "/* Q11: Produce a report of members and who recommended them in alphabetic surname,firstname order */\n",
    "\n",
    "\n",
    "/* Q12: Find the facilities with their usage by member, but not guests */\n",
    "\n",
    "\n",
    "/* Q13: Find the facilities usage by month, but not guests */\n",
    "\"\"\"\n"
   ]
  },
  {
   "cell_type": "code",
   "execution_count": 19,
   "id": "59b94b6b",
   "metadata": {},
   "outputs": [
    {
     "data": {
      "text/plain": [
       "\"\\n/* Q10: Produce a list of facilities with a total revenue less than 1000.\\nThe output of facility name and total revenue, sorted by revenue. Remember\\nthat there's a different cost for guests and members! */\\n\""
      ]
     },
     "execution_count": 19,
     "metadata": {},
     "output_type": "execute_result"
    }
   ],
   "source": [
    "\"\"\"\n",
    "/* Q10: Produce a list of facilities with a total revenue less than 1000.\n",
    "The output of facility name and total revenue, sorted by revenue. Remember\n",
    "that there's a different cost for guests and members! */\n",
    "\"\"\""
   ]
  },
  {
   "cell_type": "code",
   "execution_count": 20,
   "id": "60c929e7",
   "metadata": {},
   "outputs": [],
   "source": [
    "import sqlite3"
   ]
  },
  {
   "cell_type": "code",
   "execution_count": 21,
   "id": "461ee58e",
   "metadata": {},
   "outputs": [],
   "source": [
    "import sqlite3\n",
    "\n",
    "# Replace 'your_database.db' with the path to your SQLite database file\n",
    "conn = sqlite3.connect('sqlite_db_pythonsqlite.db')\n",
    "\n",
    "# Create a cursor object\n",
    "c = conn.cursor()\n"
   ]
  },
  {
   "cell_type": "code",
   "execution_count": 22,
   "id": "87cdd52d",
   "metadata": {},
   "outputs": [
    {
     "name": "stdout",
     "output_type": "stream",
     "text": [
      "(0, 'GUEST', 'GUEST', 'GUEST', 0, '(000) 000-0000', '', '2012-07-01 00:00:00')\n",
      "(1, 'Smith', 'Darren', '8 Bloomsbury Close, Boston', 4321, '555-555-5555', '', '2012-07-02 12:02:05')\n",
      "(2, 'Smith', 'Tracy', '8 Bloomsbury Close, New York', 4321, '555-555-5555', '', '2012-07-02 12:08:23')\n",
      "(3, 'Rownam', 'Tim', '23 Highway Way, Boston', 23423, '(844) 693-0723', '', '2012-07-03 09:32:15')\n",
      "(4, 'Joplette', 'Janice', '20 Crossing Road, New York', 234, '(833) 942-4710', '1', '2012-07-03 10:25:05')\n",
      "(5, 'Butters', 'Gerald', '1065 Huntingdon Avenue, Boston', 56754, '(844) 078-4130', '1', '2012-07-09 10:44:09')\n",
      "(6, 'Tracy', 'Burton', '3 Tunisia Drive, Boston', 45678, '(822) 354-9973', '', '2012-07-15 08:52:55')\n",
      "(7, 'Dare', 'Nancy', '6 Hunting Lodge Way, Boston', 10383, '(833) 776-4001', '4', '2012-07-25 08:59:12')\n",
      "(8, 'Boothe', 'Tim', '3 Bloomsbury Close, Reading, 00234', 234, '(811) 433-2547', '3', '2012-07-25 16:02:35')\n",
      "(9, 'Stibbons', 'Ponder', '5 Dragons Way, Winchester', 87630, '(833) 160-3900', '6', '2012-07-25 17:09:05')\n",
      "(10, 'Owen', 'Charles', '52 Cheshire Grove, Winchester, 28563', 28563, '(855) 542-5251', '1', '2012-08-03 19:42:37')\n",
      "(11, 'Jones', 'David', '976 Gnats Close, Reading', 33862, '(844) 536-8036', '4', '2012-08-06 16:32:55')\n",
      "(12, 'Baker', 'Anne', '55 Powdery Street, Boston', 80743, '844-076-5141', '9', '2012-08-10 14:23:22')\n",
      "(13, 'Farrell', 'Jemima', '103 Firth Avenue, North Reading', 57392, '(855) 016-0163', '', '2012-08-10 14:28:01')\n",
      "(14, 'Smith', 'Jack', '252 Binkington Way, Boston', 69302, '(822) 163-3254', '1', '2012-08-10 16:22:05')\n",
      "(15, 'Bader', 'Florence', '264 Ursula Drive, Westford', 84923, '(833) 499-3527', '9', '2012-08-10 17:52:03')\n",
      "(16, 'Baker', 'Timothy', '329 James Street, Reading', 58393, '833-941-0824', '13', '2012-08-15 10:34:25')\n",
      "(17, 'Pinker', 'David', '5 Impreza Road, Boston', 65332, '811 409-6734', '13', '2012-08-16 11:32:47')\n",
      "(20, 'Genting', 'Matthew', '4 Nunnington Place, Wingfield, Boston', 52365, '(811) 972-1377', '5', '2012-08-19 14:55:55')\n",
      "(21, 'Mackenzie', 'Anna', '64 Perkington Lane, Reading', 64577, '(822) 661-2898', '1', '2012-08-26 09:32:05')\n",
      "(22, 'Coplin', 'Joan', '85 Bard Street, Bloomington, Boston', 43533, '(822) 499-2232', '16', '2012-08-29 08:32:41')\n",
      "(24, 'Sarwin', 'Ramnaresh', '12 Bullington Lane, Boston', 65464, '(822) 413-1470', '15', '2012-09-01 08:44:42')\n",
      "(26, 'Jones', 'Douglas', '976 Gnats Close, Reading', 11986, '844 536-8036', '11', '2012-09-02 18:43:05')\n",
      "(27, 'Rumney', 'Henrietta', '3 Burkington Plaza, Boston', 78533, '(822) 989-8876', '20', '2012-09-05 08:42:35')\n",
      "(28, 'Farrell', 'David', '437 Granite Farm Road, Westford', 43532, '(855) 755-9876', '', '2012-09-15 08:22:05')\n",
      "(29, 'Worthington-Smyth', 'Henry', '55 Jagbi Way, North Reading', 97676, '(855) 894-3758', '2', '2012-09-17 12:27:15')\n",
      "(30, 'Purview', 'Millicent', '641 Drudgery Close, Burnington, Boston', 34232, '(855) 941-9786', '2', '2012-09-18 19:04:01')\n",
      "(33, 'Tupperware', 'Hyacinth', '33 Cheerful Plaza, Drake Road, Westford', 68666, '(822) 665-5327', '', '2012-09-18 19:32:05')\n",
      "(35, 'Hunt', 'John', '5 Bullington Lane, Boston', 54333, '(899) 720-6978', '30', '2012-09-19 11:32:45')\n",
      "(36, 'Crumpet', 'Erica', 'Crimson Road, North Reading', 75655, '(811) 732-4816', '2', '2012-09-22 08:36:38')\n",
      "(37, 'Smith', 'Darren', '3 Funktown, Denzington, Boston', 66796, '(822) 577-3541', '', '2012-09-26 18:08:45')\n"
     ]
    }
   ],
   "source": [
    "for row in c.execute(\"SELECT * FROM Members\"):\n",
    "    print(row)"
   ]
  },
  {
   "cell_type": "code",
   "execution_count": 23,
   "id": "98687200",
   "metadata": {},
   "outputs": [
    {
     "data": {
      "text/plain": [
       "'\"\\n/* Q10: Produce a list of facilities with a total revenue less than 1000.\\nThe output of facility name and total revenue, sorted by revenue. Remember\\nthat there\\'s a different cost for guests and members! */\\n'"
      ]
     },
     "execution_count": 23,
     "metadata": {},
     "output_type": "execute_result"
    }
   ],
   "source": [
    "\"\"\"\"\n",
    "/* Q10: Produce a list of facilities with a total revenue less than 1000.\n",
    "The output of facility name and total revenue, sorted by revenue. Remember\n",
    "that there's a different cost for guests and members! */\n",
    "\"\"\""
   ]
  },
  {
   "cell_type": "code",
   "execution_count": 24,
   "id": "68721ecf",
   "metadata": {},
   "outputs": [],
   "source": [
    "# Code in SQL\n",
    "q10_query = \"\"\"SELECT sub.name, SUM( sub.revenue ) AS revenue\n",
    "FROM (\n",
    "SELECT b.facid, b.memid, f.name, f.guestcost, f.membercost, COUNT( b.facid ) AS facid_count,\n",
    "CASE\n",
    "WHEN b.memid =0\n",
    "THEN COUNT( b.facid ) * f.guestcost\n",
    "ELSE COUNT( b.facid ) * f.membercost\n",
    "END AS 'revenue'\n",
    "FROM Bookings AS b\n",
    "LEFT JOIN Facilities AS f ON b.facid = f.facid\n",
    "GROUP BY b.facid, b.memid\n",
    ") AS sub\n",
    "GROUP BY sub.facid\n",
    "HAVING revenue <=1000\"\"\" "
   ]
  },
  {
   "cell_type": "code",
   "execution_count": 25,
   "id": "4cdaa9b3",
   "metadata": {},
   "outputs": [
    {
     "data": {
      "text/plain": [
       "[('Badminton Court', 604.5),\n",
       " ('Table Tennis', 90),\n",
       " ('Snooker Table', 115),\n",
       " ('Pool Table', 265)]"
      ]
     },
     "execution_count": 25,
     "metadata": {},
     "output_type": "execute_result"
    }
   ],
   "source": [
    "[row for row in c.execute(q10_query)]"
   ]
  },
  {
   "cell_type": "code",
   "execution_count": 26,
   "id": "6a40933f",
   "metadata": {},
   "outputs": [
    {
     "data": {
      "text/plain": [
       "'\"\\n/* Q11: Produce a report of members and who recommended \\nthem in alphabetic surname,firstname order\\n'"
      ]
     },
     "execution_count": 26,
     "metadata": {},
     "output_type": "execute_result"
    }
   ],
   "source": [
    "\"\"\"\"\n",
    "/* Q11: Produce a report of members and who recommended \n",
    "them in alphabetic surname,firstname order\n",
    "\"\"\""
   ]
  },
  {
   "cell_type": "code",
   "execution_count": 27,
   "id": "7fe2a51d",
   "metadata": {},
   "outputs": [],
   "source": [
    "q11_query = \"\"\"SELECT m.surname, m.firstname, m.recommendedby AS recomender_id, r.surname, r.firstname\n",
    "FROM Members AS m\n",
    "LEFT JOIN Members AS r ON m.recommendedby = r.memid\n",
    "WHERE m.recommendedby !=0\n",
    "ORDER BY r.surname, r.firstname\n",
    "\"\"\""
   ]
  },
  {
   "cell_type": "code",
   "execution_count": 28,
   "id": "6690c5f6",
   "metadata": {},
   "outputs": [
    {
     "name": "stdout",
     "output_type": "stream",
     "text": [
      "('Sarwin', 'Ramnaresh', '15', 'Bader', 'Florence')\n",
      "('Coplin', 'Joan', '16', 'Baker', 'Timothy')\n",
      "('Genting', 'Matthew', '5', 'Butters', 'Gerald')\n",
      "('Baker', 'Timothy', '13', 'Farrell', 'Jemima')\n",
      "('Pinker', 'David', '13', 'Farrell', 'Jemima')\n",
      "('Rumney', 'Henrietta', '20', 'Genting', 'Matthew')\n",
      "('Jones', 'Douglas', '11', 'Jones', 'David')\n",
      "('Dare', 'Nancy', '4', 'Joplette', 'Janice')\n",
      "('Jones', 'David', '4', 'Joplette', 'Janice')\n",
      "('Hunt', 'John', '30', 'Purview', 'Millicent')\n",
      "('Boothe', 'Tim', '3', 'Rownam', 'Tim')\n",
      "('Joplette', 'Janice', '1', 'Smith', 'Darren')\n",
      "('Butters', 'Gerald', '1', 'Smith', 'Darren')\n",
      "('Owen', 'Charles', '1', 'Smith', 'Darren')\n",
      "('Smith', 'Jack', '1', 'Smith', 'Darren')\n",
      "('Mackenzie', 'Anna', '1', 'Smith', 'Darren')\n",
      "('Worthington-Smyth', 'Henry', '2', 'Smith', 'Tracy')\n",
      "('Purview', 'Millicent', '2', 'Smith', 'Tracy')\n",
      "('Crumpet', 'Erica', '2', 'Smith', 'Tracy')\n",
      "('Baker', 'Anne', '9', 'Stibbons', 'Ponder')\n",
      "('Bader', 'Florence', '9', 'Stibbons', 'Ponder')\n",
      "('Stibbons', 'Ponder', '6', 'Tracy', 'Burton')\n"
     ]
    }
   ],
   "source": [
    "# The query does not create output none in sql but sqlite creates None value\n",
    "for row in c.execute(q11_query):\n",
    "    if row[3] != None:\n",
    "        print(row)"
   ]
  },
  {
   "cell_type": "markdown",
   "id": "66da9777",
   "metadata": {},
   "source": [
    "### Q12: Find the facilities with their usage by member, but not guests "
   ]
  },
  {
   "cell_type": "code",
   "execution_count": 29,
   "id": "56386662",
   "metadata": {},
   "outputs": [],
   "source": [
    "q12_query = \"\"\"SELECT b.facid, COUNT( b.memid ) AS mem_usage, f.name\n",
    "FROM (\n",
    "SELECT facid, memid\n",
    "FROM Bookings\n",
    "WHERE memid !=0\n",
    ") AS b\n",
    "LEFT JOIN Facilities AS f ON b.facid = f.facid\n",
    "GROUP BY b.facid\"\"\""
   ]
  },
  {
   "cell_type": "code",
   "execution_count": 30,
   "id": "d3379e03",
   "metadata": {},
   "outputs": [
    {
     "data": {
      "text/plain": [
       "[(0, 308, 'Tennis Court 1'),\n",
       " (1, 276, 'Tennis Court 2'),\n",
       " (2, 344, 'Badminton Court'),\n",
       " (3, 385, 'Table Tennis'),\n",
       " (4, 421, 'Massage Room 1'),\n",
       " (5, 27, 'Massage Room 2'),\n",
       " (6, 195, 'Squash Court'),\n",
       " (7, 421, 'Snooker Table'),\n",
       " (8, 783, 'Pool Table')]"
      ]
     },
     "execution_count": 30,
     "metadata": {},
     "output_type": "execute_result"
    }
   ],
   "source": [
    "[row for row in c.execute(q12_query)]"
   ]
  },
  {
   "cell_type": "markdown",
   "id": "51cb5771",
   "metadata": {},
   "source": [
    "### Q13: Find the facilities usage by month, but not guests"
   ]
  },
  {
   "cell_type": "code",
   "execution_count": 31,
   "id": "14a1730b",
   "metadata": {},
   "outputs": [],
   "source": [
    "# MONTH function does not work in sqlite\n",
    "q13_query =\"\"\"SELECT b.months, COUNT( b.memid ) AS mem_usage\n",
    "FROM (\n",
    "SELECT strftime('%m', starttime ) AS months, memid\n",
    "FROM Bookings\n",
    "WHERE memid !=0\n",
    ") AS b\n",
    "GROUP BY b.months\"\"\""
   ]
  },
  {
   "cell_type": "code",
   "execution_count": 32,
   "id": "12832803",
   "metadata": {},
   "outputs": [
    {
     "data": {
      "text/plain": [
       "[('07', 480), ('08', 1168), ('09', 1512)]"
      ]
     },
     "execution_count": 32,
     "metadata": {},
     "output_type": "execute_result"
    }
   ],
   "source": [
    "[row for row in c.execute(q13_query)]"
   ]
  }
 ],
 "metadata": {
  "kernelspec": {
   "display_name": "Python 3.9.13 ('base')",
   "language": "python",
   "name": "python3"
  },
  "language_info": {
   "codemirror_mode": {
    "name": "ipython",
    "version": 3
   },
   "file_extension": ".py",
   "mimetype": "text/x-python",
   "name": "python",
   "nbconvert_exporter": "python",
   "pygments_lexer": "ipython3",
   "version": "3.9.13"
  },
  "vscode": {
   "interpreter": {
    "hash": "48b71bc540cd0acc4a5cff3b2d8263e022bbde63c646d15e8a8dd6ce6c9dde39"
   }
  }
 },
 "nbformat": 4,
 "nbformat_minor": 5
}
